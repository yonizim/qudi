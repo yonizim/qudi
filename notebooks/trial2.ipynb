{
 "cells": [
  {
   "cell_type": "code",
   "execution_count": 2,
   "metadata": {
    "collapsed": true
   },
   "outputs": [
    {
     "name": "stdout",
     "output_type": "stream",
     "text": [
      "2\n"
     ]
    }
   ],
   "source": [
    "a = 1+1\n",
    "print(a)"
   ]
  },
  {
   "cell_type": "code",
   "execution_count": 2,
   "metadata": {},
   "outputs": [
    {
     "ename": "NameError",
     "evalue": "name 'confocalgui' is not defined",
     "traceback": [
      "\u001b[1;31m---------------------------------------------------------------------------\u001b[0m",
      "\u001b[1;31mNameError\u001b[0m                                 Traceback (most recent call last)",
      "\u001b[1;32m<ipython-input-2-c8e971eefca1>\u001b[0m in \u001b[0;36m<module>\u001b[1;34m()\u001b[0m\n\u001b[0;32m      1\u001b[0m \u001b[1;32mimport\u001b[0m \u001b[0mtime\u001b[0m\u001b[1;33m\u001b[0m\u001b[0m\n\u001b[1;32m----> 2\u001b[1;33m \u001b[0mprint\u001b[0m\u001b[1;33m(\u001b[0m\u001b[0mconfocalgui\u001b[0m\u001b[1;33m)\u001b[0m\u001b[1;33m\u001b[0m\u001b[0m\n\u001b[0m\u001b[0;32m      3\u001b[0m \u001b[1;33m\u001b[0m\u001b[0m\n\u001b[0;32m      4\u001b[0m \u001b[0mfreq\u001b[0m\u001b[1;33m=\u001b[0m\u001b[1;36m1.518\u001b[0m\u001b[1;33m*\u001b[0m\u001b[1;36m10\u001b[0m\u001b[1;33m**\u001b[0m\u001b[1;33m(\u001b[0m\u001b[1;36m9\u001b[0m\u001b[1;33m)\u001b[0m\u001b[1;33m\u001b[0m\u001b[0m\n\u001b[0;32m      5\u001b[0m \u001b[0mfreq_range\u001b[0m \u001b[1;33m=\u001b[0m \u001b[1;36m2\u001b[0m \u001b[1;33m*\u001b[0m \u001b[1;36m10\u001b[0m\u001b[1;33m**\u001b[0m\u001b[1;33m(\u001b[0m\u001b[1;36m6\u001b[0m\u001b[1;33m)\u001b[0m\u001b[1;33m\u001b[0m\u001b[0m\n",
      "\u001b[1;31mNameError\u001b[0m: name 'confocalgui' is not defined"
     ],
     "output_type": "error"
    }
   ],
   "source": [
    "import time\n",
    "print(confocalgui)\n",
    "\n",
    "freq=1.518*10**(9)\n",
    "freq_range = 2 * 10**(6)\n",
    "freq_step = 50 * 10**(3)\n",
    "steps = 40\n",
    "power = -24\n",
    "runtime = 5.0\n",
    "odmr.mw_start = freq\n",
    "odmr.mw_step = freq_step\n",
    "odmr.mw_stop = freq + freq_range\n",
    "odmr.mw_power = power\n",
    "odmr.run_time = runtime\n",
    "odmr.start_odmr_scan()\n",
    "while odmr.module_state() != 'idle':\n",
    "        time.sleep(1)\n",
    "freq_vals = odmr.odmr_plot_x\n",
    "sig_vals = odmr.odmr_plot_y\n",
    "filepath = save.get_path_for_module(module_name='ODMR')\n",
    "\n",
    "save_data_freq_vals = {}\n",
    "save_data_freq_vals['freq_vals'] = freq_vals\n",
    "filelabel_freq_vals = 'ODMR_FREQ_SWEEP_' + str(freq) +'_freq_vals'\n",
    "save.save_data(save_data_freq_vals, filepath, filelabel=filelabel_freq_vals)\n",
    "\n",
    "save_data_sig_vals = {}\n",
    "save_data_sig_vals['sig_vals'] = sig_vals\n",
    "filelabel_sig_vals = 'ODMR_FREQ_SWEEP_' + str(freq) +'_sig_vals'\n",
    "save.save_data(save_data_sig_vals, filepath, filelabel=filelabel_sig_vals)"
   ]
  },
  {
   "cell_type": "code",
   "execution_count": null,
   "metadata": {},
   "outputs": [],
   "source": [
    ""
   ]
  }
 ],
 "metadata": {
  "kernelspec": {
   "display_name": "Python 2",
   "language": "python",
   "name": "python2"
  },
  "language_info": {
   "codemirror_mode": {
    "name": "ipython",
    "version": 2
   },
   "file_extension": ".py",
   "mimetype": "text/x-python",
   "name": "python",
   "nbconvert_exporter": "python",
   "pygments_lexer": "ipython2",
   "version": "2.7.6"
  }
 },
 "nbformat": 4,
 "nbformat_minor": 0
}
