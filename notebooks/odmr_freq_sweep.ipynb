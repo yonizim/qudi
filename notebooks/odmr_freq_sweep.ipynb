{
 "cells": [
  {
   "cell_type": "markdown",
   "metadata": {},
   "source": [
    "# Frequency sweep odmr"
   ]
  },
  {
   "cell_type": "markdown",
   "metadata": {},
   "source": [
    "Trying to make a script now, which is going to \n",
    "measure odmr over a range of frequencies. \n",
    "This should help to find the frequency, where the\n",
    "wire is most efficient."
   ]
  },
  {
   "cell_type": "code",
   "execution_count": 2,
   "metadata": {},
   "outputs": [],
   "source": [
    "import time\n"
   ]
  },
  {
   "cell_type": "code",
   "execution_count": 3,
   "metadata": {},
   "outputs": [
    {
     "ename": "SyntaxError",
     "evalue": "unexpected EOF while parsing (<ipython-input-3-80a310a618b1>, line 3)",
     "traceback": [
      "\u001b[1;36m  File \u001b[1;32m\"<ipython-input-3-80a310a618b1>\"\u001b[1;36m, line \u001b[1;32m3\u001b[0m\n\u001b[1;33m    save_after_meas=True, name_tag=''):\u001b[0m\n\u001b[1;37m                                       ^\u001b[0m\n\u001b[1;31mSyntaxError\u001b[0m\u001b[1;31m:\u001b[0m unexpected EOF while parsing\n"
     ],
     "output_type": "error"
    }
   ],
   "source": [
    "def perform_odmr_measurement(self, freq_start, freq_step, freq_stop, power,\n",
    "                                 runtime, fit_function='Lorentzian',\n",
    "                                 save_after_meas=True, name_tag=''):"
   ]
  },
  {
   "cell_type": "code",
   "execution_count": 6,
   "metadata": {},
   "outputs": [],
   "source": [
    "freq_range = 0.1 * 10**(9)\n",
    "freq_step = 2 * 10**(6)\n",
    "steps = 40\n",
    "freq_sweep_start = 4.1*10**(9)\n",
    "freq_sweep_stop = 9.0 * 10**(9)\n",
    "power = -20\n",
    "runtime = 120.0\n",
    "freq_step2 = (freq_sweep_stop-freq_sweep_start)/steps\n",
    "freq_list = [freq_sweep_start + i*freq_step2 for i in range(steps+1)]\n",
    "mag_list = [(i-2.87*10**9)/(28*10**9) for i in freq_list]\n",
    "y_data = []\n",
    "x_data = []"
   ]
  },
  {
   "cell_type": "code",
   "execution_count": 7,
   "metadata": {},
   "outputs": [
    {
     "data": {
      "text/plain": [
       "2.0"
      ]
     },
     "execution_count": 7,
     "metadata": {},
     "output_type": "execute_result"
    }
   ],
   "source": [
    "freq_step/10**6"
   ]
  },
  {
   "cell_type": "code",
   "execution_count": 8,
   "metadata": {},
   "outputs": [
    {
     "ename": "NameError",
     "evalue": "name 'myscmagnet' is not defined",
     "traceback": [
      "\u001b[1;31m---------------------------------------------------------------------------\u001b[0m",
      "\u001b[1;31mNameError\u001b[0m                                 Traceback (most recent call last)",
      "\u001b[1;32m<ipython-input-8-52f67be5c3dd>\u001b[0m in \u001b[0;36m<module>\u001b[1;34m()\u001b[0m\n\u001b[0;32m      1\u001b[0m \u001b[1;32mfor\u001b[0m \u001b[0mii\u001b[0m\u001b[1;33m,\u001b[0m \u001b[0mfreq\u001b[0m \u001b[1;32min\u001b[0m \u001b[0menumerate\u001b[0m\u001b[1;33m(\u001b[0m\u001b[0mfreq_list\u001b[0m\u001b[1;33m)\u001b[0m\u001b[1;33m:\u001b[0m\u001b[1;33m\u001b[0m\u001b[0m\n\u001b[0;32m      2\u001b[0m     \u001b[0msave_data\u001b[0m \u001b[1;33m=\u001b[0m \u001b[1;33m{\u001b[0m\u001b[1;33m}\u001b[0m\u001b[1;33m\u001b[0m\u001b[0m\n\u001b[1;32m----> 3\u001b[1;33m     \u001b[0mmyscmagnet\u001b[0m\u001b[1;33m.\u001b[0m\u001b[0mmove_abs\u001b[0m\u001b[1;33m(\u001b[0m\u001b[1;33m{\u001b[0m\u001b[1;34m'rho'\u001b[0m\u001b[1;33m:\u001b[0m \u001b[0mmag_list\u001b[0m\u001b[1;33m[\u001b[0m\u001b[0mii\u001b[0m\u001b[1;33m]\u001b[0m\u001b[1;33m}\u001b[0m\u001b[1;33m)\u001b[0m\u001b[1;33m\u001b[0m\u001b[0m\n\u001b[0m\u001b[0;32m      4\u001b[0m     \u001b[1;32mwhile\u001b[0m \u001b[0mmagnet_logic\u001b[0m\u001b[1;33m.\u001b[0m\u001b[0m_check_is_moving\u001b[0m\u001b[1;33m(\u001b[0m\u001b[1;33m)\u001b[0m\u001b[1;33m:\u001b[0m\u001b[1;33m\u001b[0m\u001b[0m\n\u001b[0;32m      5\u001b[0m         \u001b[0mtime\u001b[0m\u001b[1;33m.\u001b[0m\u001b[0msleep\u001b[0m\u001b[1;33m(\u001b[0m\u001b[1;36m1\u001b[0m\u001b[1;33m)\u001b[0m\u001b[1;33m\u001b[0m\u001b[0m\n",
      "\u001b[1;31mNameError\u001b[0m: name 'myscmagnet' is not defined"
     ],
     "output_type": "error"
    }
   ],
   "source": [
    "for ii, freq in enumerate(freq_list):\n",
    "    save_data = {}\n",
    "    myscmagnet.move_abs({'rho': mag_list[ii]})\n",
    "    while magnet_logic._check_is_moving():\n",
    "        time.sleep(1)\n",
    "    confocal.refocus_clicked()\n",
    "    time.sleep(30)\n",
    "    # odmrlogic.perform_odmr_measurement(freq, freq_step, freq + freq_range, power, runtime, save_after_meas=False)\n",
    "    odmrlogic.mw_start = freq\n",
    "    odmrlogic.mw_step = freq_step\n",
    "    odmrlogic.mw_stop = freq + freq_range\n",
    "    odmrlogic.mw_power = power\n",
    "    odmrlogic.run_time = runtime\n",
    "    odmrlogic.start_odmr_scan()\n",
    "    while odmrlogic.getState() != 'idle':\n",
    "        time.sleep(1)\n",
    "    freq_vals = odmrlogic.ODMR_plot_x\n",
    "    sig_vals = odmrlogic.ODMR_plot_y\n",
    "    save_data['freq_vals'] = freq_vals\n",
    "    save_data['sig_vals'] = sig_vals\n",
    "    filepath = savelogic.get_path_for_module(module_name='ODMR')\n",
    "    filelabel = 'ODMR_FREQ_SWEEP_' + str(freq)\n",
    "    savelogic.save_data(save_data, filepath, filelabel=filelabel, as_text=True)"
   ]
  },
  {
   "cell_type": "code",
   "execution_count": 9,
   "metadata": {},
   "outputs": [],
   "source": [
    "freq_start = 7.45 * 10**(9)\n",
    "freq_step = 2 * 10**(6)\n",
    "freq_stop = 7.55 * 10**(9)\n",
    "power = -20\n",
    "runtime = 60.0\n",
    "name_tag = 'frequency_sweep'"
   ]
  },
  {
   "cell_type": "code",
   "execution_count": 10,
   "metadata": {},
   "outputs": [
    {
     "ename": "NameError",
     "evalue": "name 'confocal' is not defined",
     "traceback": [
      "\u001b[1;31m---------------------------------------------------------------------------\u001b[0m",
      "\u001b[1;31mNameError\u001b[0m                                 Traceback (most recent call last)",
      "\u001b[1;32m<ipython-input-10-e9f761770ba9>\u001b[0m in \u001b[0;36m<module>\u001b[1;34m()\u001b[0m\n\u001b[0;32m      1\u001b[0m \u001b[0msave_data\u001b[0m \u001b[1;33m=\u001b[0m \u001b[1;33m{\u001b[0m\u001b[1;33m}\u001b[0m\u001b[1;33m\u001b[0m\u001b[0m\n\u001b[1;32m----> 2\u001b[1;33m \u001b[0mconfocal\u001b[0m\u001b[1;33m.\u001b[0m\u001b[0mrefocus_clicked\u001b[0m\u001b[1;33m(\u001b[0m\u001b[1;33m)\u001b[0m\u001b[1;33m\u001b[0m\u001b[0m\n\u001b[0m\u001b[0;32m      3\u001b[0m \u001b[0mtime\u001b[0m\u001b[1;33m.\u001b[0m\u001b[0msleep\u001b[0m\u001b[1;33m(\u001b[0m\u001b[1;36m30\u001b[0m\u001b[1;33m)\u001b[0m\u001b[1;33m\u001b[0m\u001b[0m\n\u001b[0;32m      4\u001b[0m \u001b[1;31m# odmrlogic.perform_odmr_measurement(freq, freq_step, freq + freq_range, power, runtime, save_after_meas=False)\u001b[0m\u001b[1;33m\u001b[0m\u001b[1;33m\u001b[0m\u001b[0m\n\u001b[0;32m      5\u001b[0m \u001b[0modmrlogic\u001b[0m\u001b[1;33m.\u001b[0m\u001b[0mmw_start\u001b[0m \u001b[1;33m=\u001b[0m \u001b[0mfreq_start\u001b[0m\u001b[1;33m\u001b[0m\u001b[0m\n",
      "\u001b[1;31mNameError\u001b[0m: name 'confocal' is not defined"
     ],
     "output_type": "error"
    }
   ],
   "source": [
    "save_data = {}\n",
    "confocal.refocus_clicked()\n",
    "time.sleep(30)\n",
    "# odmrlogic.perform_odmr_measurement(freq, freq_step, freq + freq_range, power, runtime, save_after_meas=False)\n",
    "odmrlogic.mw_start = freq_start\n",
    "odmrlogic.mw_step = freq_step\n",
    "odmrlogic.mw_stop = freq_stop\n",
    "odmrlogic.mw_power = power\n",
    "odmrlogic.run_time = runtime\n",
    "odmrlogic.start_odmr_scan()\n",
    "while odmrlogic.getState() != 'idle':\n",
    "    time.sleep(1)\n",
    "freq_vals = odmrlogic.ODMR_plot_x\n",
    "sig_vals = odmrlogic.ODMR_plot_y\n",
    "save_data['freq_vals'] = freq_vals\n",
    "save_data['sig_vals'] = sig_vals\n",
    "filepath = savelogic.get_path_for_module(module_name='ODMR')\n",
    "filelabel = 'ODMR_FREQ_SWEEP_1'\n",
    "savelogic.save_data(save_data, filepath, filelabel=filelabel, as_text=True)"
   ]
  },
  {
   "cell_type": "code",
   "execution_count": null,
   "metadata": {},
   "outputs": [],
   "source": [
    "odmrlogic.ODMR_plot_x"
   ]
  },
  {
   "cell_type": "code",
   "execution_count": null,
   "metadata": {},
   "outputs": [],
   "source": [
    "x = odmrlogic.ODMR_plot_x\n",
    "y = odmrlogic.ODMR_plot_y"
   ]
  },
  {
   "cell_type": "code",
   "execution_count": null,
   "metadata": {},
   "outputs": [],
   "source": [
    "from matplotlib import pyplot"
   ]
  },
  {
   "cell_type": "code",
   "execution_count": null,
   "metadata": {},
   "outputs": [],
   "source": [
    "pyplot.plot(x,y)\n",
    "pyplot.show()"
   ]
  },
  {
   "cell_type": "code",
   "execution_count": null,
   "metadata": {},
   "outputs": [],
   "source": [
    "result = fitlogic.make_lorentzian_fit(axis=x, data=y)"
   ]
  },
  {
   "cell_type": "code",
   "execution_count": null,
   "metadata": {},
   "outputs": [],
   "source": [
    "result.params.pretty_print()"
   ]
  },
  {
   "cell_type": "code",
   "execution_count": null,
   "metadata": {},
   "outputs": [],
   "source": [
    "myscmagnet.move_abs({'rho':0.078})"
   ]
  },
  {
   "cell_type": "code",
   "execution_count": null,
   "metadata": {},
   "outputs": [],
   "source": [
    "def refocus_clicked(self):\n",
    "        \"\"\" Start optimize position. \"\"\"\n",
    "        self.disable_scan_actions()\n",
    "        # Get the current crosshair position to send to optimizer\n",
    "        crosshair_pos = self._scanning_logic.get_position()\n",
    "        self.sigStartOptimizer.emit(crosshair_pos, 'confocalgui')"
   ]
  },
  {
   "cell_type": "code",
   "execution_count": 1,
   "metadata": {},
   "outputs": [
    {
     "ename": "NameError",
     "evalue": "name 'confocal' is not defined",
     "traceback": [
      "\u001b[1;31m---------------------------------------------------------------------------\u001b[0m",
      "\u001b[1;31mNameError\u001b[0m                                 Traceback (most recent call last)",
      "\u001b[1;32m<ipython-input-1-8f06103053cf>\u001b[0m in \u001b[0;36m<module>\u001b[1;34m()\u001b[0m\n\u001b[1;32m----> 1\u001b[1;33m \u001b[0mconfocal\u001b[0m\u001b[1;33m.\u001b[0m\u001b[0mrefocus_clicked\u001b[0m\u001b[1;33m(\u001b[0m\u001b[1;33m)\u001b[0m\u001b[1;33m\u001b[0m\u001b[0m\n\u001b[0m",
      "\u001b[1;31mNameError\u001b[0m: name 'confocal' is not defined"
     ],
     "output_type": "error"
    }
   ],
   "source": [
    "confocal.refocus_clicked()"
   ]
  },
  {
   "cell_type": "code",
   "execution_count": null,
   "metadata": {},
   "outputs": [],
   "source": [
    "meas_param = {}\n",
    "meas_param['ODMR frequency start (Hz)'] = [2]\n",
    "meas_param['ODMR frequency step (Hz)'] = [3]\n",
    "meas_param['ODMR frequency stop (Hz)'] = [4]\n",
    "meas_param['ODMR power (dBm)'] = [5]\n",
    "meas_param['ODMR run time (s)'] = [6]"
   ]
  },
  {
   "cell_type": "code",
   "execution_count": null,
   "metadata": {},
   "outputs": [],
   "source": [
    "filelabel = 'test'"
   ]
  },
  {
   "cell_type": "code",
   "execution_count": null,
   "metadata": {},
   "outputs": [],
   "source": [
    "filepath = savelogic.get_path_for_module(module_name='ODMR')\n",
    "savelogic.save_data(meas_param, filepath, filelabel=filelabel, as_text=True)"
   ]
  },
  {
   "cell_type": "code",
   "execution_count": null,
   "metadata": {},
   "outputs": [],
   "source": [
    "odmrlogic.mw_stop"
   ]
  },
  {
   "cell_type": "code",
   "execution_count": null,
   "metadata": {},
   "outputs": [],
   "source": [
    "odmrlogic.run_time, odmrlogic.mw_power, odmrlogic.mw_stop, odmrlogic.mw_step, odmrlogic.mw_start"
   ]
  },
  {
   "cell_type": "code",
   "execution_count": null,
   "metadata": {},
   "outputs": [],
   "source": [
    "test_x = [i for i in range(9)]\n",
    "test_y = [i**2 for i in test_x]"
   ]
  },
  {
   "cell_type": "code",
   "execution_count": null,
   "metadata": {},
   "outputs": [],
   "source": [
    "filepath = savelogic.get_path_for_module(module_name='ODMR')\n",
    "filelabel = 'ODMR_FREQ_SWEEP_'\n",
    "savelogic.save_data({'x': test_x}, filepath, filelabel=filelabel, as_text=True)"
   ]
  },
  {
   "cell_type": "code",
   "execution_count": null,
   "metadata": {},
   "outputs": [],
   "source": [
    "odmrlogic.ODMR_plot_y"
   ]
  },
  {
   "cell_type": "code",
   "execution_count": null,
   "metadata": {},
   "outputs": [],
   "source": [
    "confocal.refocus_clicked()\n",
    "while confocal.getState() != 'idle':\n",
    "    time.sleep(1)\n",
    "    print('wait until ready')"
   ]
  },
  {
   "cell_type": "code",
   "execution_count": null,
   "metadata": {},
   "outputs": [],
   "source": [
    "freq_step"
   ]
  },
  {
   "cell_type": "code",
   "execution_count": null,
   "metadata": {},
   "outputs": [],
   "source": [
    ""
   ]
  }
 ],
 "metadata": {
  "kernelspec": {
   "display_name": "QuDi",
   "language": "python",
   "name": "qudi"
  },
  "language_info": {
   "codemirror_mode": {
    "name": "ipython",
    "version": "3.5.2"
   },
   "file_extension": ".py",
   "mimetype": "text/x-python",
   "name": "python",
   "nbconvert_exporter": "python",
   "pygments_lexer": "ipython3",
   "version": "3.5.2"
  }
 },
 "nbformat": 4,
 "nbformat_minor": 0
}
