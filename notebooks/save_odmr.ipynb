{
 "cells": [
  {
   "cell_type": "code",
   "execution_count": 2,
   "metadata": {
    "collapsed": true
   },
   "outputs": [
    {
     "ename": "NameError",
     "evalue": "name 'odmr' is not defined",
     "traceback": [
      "\u001b[1;31m---------------------------------------------------------------------------\u001b[0m",
      "\u001b[1;31mNameError\u001b[0m                                 Traceback (most recent call last)",
      "\u001b[1;32m<ipython-input-2-8901ac9c4497>\u001b[0m in \u001b[0;36m<module>\u001b[1;34m()\u001b[0m\n\u001b[0;32m      1\u001b[0m \u001b[1;32mimport\u001b[0m \u001b[0mtime\u001b[0m\u001b[1;33m\u001b[0m\u001b[0m\n\u001b[0;32m      2\u001b[0m \u001b[0mruntime\u001b[0m \u001b[1;33m=\u001b[0m \u001b[1;36m5.0\u001b[0m\u001b[1;33m\u001b[0m\u001b[0m\n\u001b[1;32m----> 3\u001b[1;33m \u001b[0modmr\u001b[0m\u001b[1;33m.\u001b[0m\u001b[0mrun_time\u001b[0m \u001b[1;33m=\u001b[0m \u001b[0mruntime\u001b[0m\u001b[1;33m\u001b[0m\u001b[0m\n\u001b[0m\u001b[0;32m      4\u001b[0m \u001b[0modmr\u001b[0m\u001b[1;33m.\u001b[0m\u001b[0mstart_odmr_scan\u001b[0m\u001b[1;33m(\u001b[0m\u001b[1;33m)\u001b[0m\u001b[1;33m\u001b[0m\u001b[0m\n\u001b[0;32m      5\u001b[0m \u001b[1;32mwhile\u001b[0m \u001b[0modmr\u001b[0m\u001b[1;33m.\u001b[0m\u001b[0mmodule_state\u001b[0m\u001b[1;33m(\u001b[0m\u001b[1;33m)\u001b[0m \u001b[1;33m!=\u001b[0m \u001b[1;34m'idle'\u001b[0m\u001b[1;33m:\u001b[0m\u001b[1;33m\u001b[0m\u001b[0m\n",
      "\u001b[1;31mNameError\u001b[0m: name 'odmr' is not defined"
     ],
     "output_type": "error"
    }
   ],
   "source": [
    "import time\n",
    "runtime = 5.0\n",
    "odmr.run_time = runtime\n",
    "odmr.start_odmr_scan()\n",
    "while odmr.module_state() != 'idle':\n",
    "        time.sleep(1)\n",
    "freq_vals = odmr.odmr_plot_x\n",
    "sig_vals = odmr.odmr_plot_y[0,:]\n",
    "filepath = save.get_path_for_module(module_name='ODMR')\n",
    "\n",
    "save_data= {}\n",
    "save_data['freq_vals'] = freq_vals\n",
    "save_data['sig_vals'] = sig_vals\n",
    "filelabel = 'ODMR_FREQ_SWEEP_' + str(freq) \n",
    "save.save_data(save_data, filepath, filelabel=filelabel)\n",
    "\n",
    "\n",
    "from matplotlib import pyplot\n",
    "pyplot.plot(freq_vals,sig_vals)\n",
    "pyplot.show()\n",
    "\n",
    "fitlogic = tools.fit_logic_standalone.FitLogic()\n",
    "result = fitlogic.make_lorentzian_fit(axis=freq_vals, data=sig_vals)\n",
    "print(result)"
   ]
  },
  {
   "cell_type": "code",
   "execution_count": null,
   "metadata": {},
   "outputs": [],
   "source": []
  }
 ],
 "metadata": {
  "kernelspec": {
   "display_name": "Python 2",
   "language": "python",
   "name": "python2"
  },
  "language_info": {
   "codemirror_mode": {
    "name": "ipython",
    "version": 2
   },
   "file_extension": ".py",
   "mimetype": "text/x-python",
   "name": "python",
   "nbconvert_exporter": "python",
   "pygments_lexer": "ipython2",
   "version": "2.7.6"
  }
 },
 "nbformat": 4,
 "nbformat_minor": 0
}
